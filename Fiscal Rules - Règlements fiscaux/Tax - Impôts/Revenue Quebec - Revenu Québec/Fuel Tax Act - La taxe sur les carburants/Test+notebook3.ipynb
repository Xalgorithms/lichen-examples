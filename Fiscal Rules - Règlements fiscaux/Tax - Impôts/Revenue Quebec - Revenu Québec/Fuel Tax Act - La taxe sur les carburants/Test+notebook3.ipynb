{
 "cells": [
  {
   "cell_type": "code",
   "execution_count": 133,
   "metadata": {
    "collapsed": true
   },
   "outputs": [],
   "source": [
    "import pandas as pd"
   ]
  },
  {
   "cell_type": "code",
   "execution_count": 139,
   "metadata": {},
   "outputs": [
    {
     "name": "stdout",
     "output_type": "stream",
     "text": [
      "Populating the interactive namespace from numpy and matplotlib\n"
     ]
    }
   ],
   "source": [
    "import numpy as np\n",
    "import matplotlib.pyplot as plt\n",
    "%pylab inline"
   ]
  },
  {
   "cell_type": "code",
   "execution_count": 135,
   "metadata": {
    "collapsed": true
   },
   "outputs": [],
   "source": [
    "RuleCriticality1 = pd.DataFrame(\n",
    "{'RuleCriticality' : ['1', '2', '3'],\n",
    " 'RuleCriticalityKeyword' : ['imperative', 'business', 'experimental'],\n",
    " 'RuleCriticalityMeaning' : ['must always be active', 'must be active to uptime guaranteed tolerances', 'may be deactivated to support business and imperative requirements']},\n",
    "index = [1, 2, 3])\n",
    "\n",
    "\n",
    "\n"
   ]
  },
  {
   "cell_type": "code",
   "execution_count": 136,
   "metadata": {},
   "outputs": [
    {
     "data": {
      "text/html": [
       "<div>\n",
       "<table border=\"1\" class=\"dataframe\">\n",
       "  <thead>\n",
       "    <tr style=\"text-align: right;\">\n",
       "      <th></th>\n",
       "      <th>RuleCriticality</th>\n",
       "      <th>RuleCriticalityKeyword</th>\n",
       "      <th>RuleCriticalityMeaning</th>\n",
       "    </tr>\n",
       "  </thead>\n",
       "  <tbody>\n",
       "    <tr>\n",
       "      <th>1</th>\n",
       "      <td>1</td>\n",
       "      <td>imperative</td>\n",
       "      <td>must always be active</td>\n",
       "    </tr>\n",
       "    <tr>\n",
       "      <th>2</th>\n",
       "      <td>2</td>\n",
       "      <td>business</td>\n",
       "      <td>must be active to uptime guaranteed tolerances</td>\n",
       "    </tr>\n",
       "    <tr>\n",
       "      <th>3</th>\n",
       "      <td>3</td>\n",
       "      <td>experimental</td>\n",
       "      <td>may be deactivated to support business and imp...</td>\n",
       "    </tr>\n",
       "  </tbody>\n",
       "</table>\n",
       "</div>"
      ],
      "text/plain": [
       "  RuleCriticality RuleCriticalityKeyword  \\\n",
       "1               1             imperative   \n",
       "2               2               business   \n",
       "3               3           experimental   \n",
       "\n",
       "                              RuleCriticalityMeaning  \n",
       "1                              must always be active  \n",
       "2     must be active to uptime guaranteed tolerances  \n",
       "3  may be deactivated to support business and imp...  "
      ]
     },
     "execution_count": 136,
     "metadata": {},
     "output_type": "execute_result"
    }
   ],
   "source": [
    "RuleCriticality1"
   ]
  },
  {
   "cell_type": "code",
   "execution_count": 138,
   "metadata": {},
   "outputs": [
    {
     "ename": "NameError",
     "evalue": "name 'header' is not defined",
     "output_type": "error",
     "traceback": [
      "\u001b[0;31m---------------------------------------------------------------------------\u001b[0m",
      "\u001b[0;31mNameError\u001b[0m                                 Traceback (most recent call last)",
      "\u001b[0;32m<ipython-input-138-6890700fe424>\u001b[0m in \u001b[0;36m<module>\u001b[0;34m()\u001b[0m\n\u001b[0;32m----> 1\u001b[0;31m \u001b[0mRuleCriticality2\u001b[0m \u001b[0;34m=\u001b[0m \u001b[0mpd\u001b[0m\u001b[0;34m.\u001b[0m\u001b[0mread_csv\u001b[0m\u001b[0;34m(\u001b[0m\u001b[0;34m'CA-QC_MJQ_RLRQ_RuleCriticality.csv'\u001b[0m\u001b[0;34m,\u001b[0m \u001b[0mheader\u001b[0m\u001b[0;34m-\u001b[0m\u001b[0;32mNone\u001b[0m\u001b[0;34m,\u001b[0m \u001b[0mnrowns\u001b[0m\u001b[0;34m=\u001b[0m\u001b[0;36m5\u001b[0m\u001b[0;34m)\u001b[0m\u001b[0;34m\u001b[0m\u001b[0m\n\u001b[0m",
      "\u001b[0;31mNameError\u001b[0m: name 'header' is not defined"
     ]
    }
   ],
   "source": [
    "RuleCriticality2 = pd.read_csv('CA-QC_MJQ_RLRQ_RuleCriticality.csv', header-None, nrowns=5)\n"
   ]
  },
  {
   "cell_type": "code",
   "execution_count": null,
   "metadata": {
    "collapsed": true
   },
   "outputs": [],
   "source": [
    "df = pd.DataFrame (data, columns=['thisone', 'thatone', 'theother'])"
   ]
  },
  {
   "cell_type": "code",
   "execution_count": null,
   "metadata": {
    "collapsed": true
   },
   "outputs": [],
   "source": [
    "RuleCriticality"
   ]
  },
  {
   "cell_type": "markdown",
   "metadata": {},
   "source": [
    "# Overview\n",
    "\n",
    "## Summary\n",
    "\n",
    "This is just a generic test.\n",
    "\n",
    "## Context\n",
    "\n",
    "Once this is validated, then a working Xalgo example will be implemented."
   ]
  },
  {
   "cell_type": "code",
   "execution_count": null,
   "metadata": {
    "collapsed": true
   },
   "outputs": [],
   "source": [
    "{\n",
    "// ABOUT.RULE\n",
    "\n",
    "    \"rule\" // Xalgo\n",
    "\n",
    "    \"rule.id\" : \"10.1010101010.0001\" // DOI, ITU X.1255\n",
    "\n",
    "    \"rule.jurisdiction\" : \"CA-QC\"  // ISO 3166-2\n",
    "\n",
    "    // This rule is governed by and construed in accordance with the laws of the named jurisdiction.\n",
    "\n",
    "    \"rule.name\" : {\n",
    "\n",
    "    \"rule.name.english\" : \"Quebec, Fuel Tax Act, Border Region Tax Reduction, Retail\",\n",
    "\n",
    "    \"rule.name.francais\" : \"Québec, Loi de la taxe sur les carburants, réduction fiscale de la région frontalière, détail\"\n",
    "\n",
    "    }\n",
    "\n",
    "    \"rule.url\" : \"http://legisquebec.gouv.qc.ca/en/ShowDoc/cr/T-1,%20r.%201#se:2r3\"\n",
    "\n",
    "    \"rule.effective\" : {\n",
    "\n",
    "    \"rule.effective.starts\" : \"2017-01-01T00:00:00+00:01\", // ISO 8601\n",
    "\n",
    "    \"rule.effective.ends\" : \"2017-12-31T23:59:59+99:99\"\n",
    "\n",
    "    },\n",
    "\n",
    "    \"rule.criticality\" : \"experimental\"\n",
    "\n",
    "    \"rule.role\" : {\n",
    "\n",
    "    \"rule.role.manager\" : \"foo@bar.com\",\n",
    "\n",
    "    \"rule.role.author\" : \"foo@bar.com\",\n",
    "\n",
    "    \"rule.role.committer\" : \"foo@bar.com\"\n",
    "\n",
    "    },\n",
    "\n"
   ]
  },
  {
   "cell_type": "markdown",
   "metadata": {},
   "source": [
    "# Rule\n",
    "\n",
    "## Rule Source URL\n",
    "\n",
    "<http://legisquebec.gouv.qc.ca/fr/ShowDoc/cr/T-1>"
   ]
  },
  {
   "cell_type": "code",
   "execution_count": null,
   "metadata": {
    "collapsed": true,
    "scrolled": true
   },
   "outputs": [],
   "source": [
    "%%html\n",
    "<iframe width=\"568\" height=\"325\" src=\"https://xalgorithms.org/wp-content/uploads/CA-QC_MJQ_RLRQ_T-1_r1_2R3a.png\" frameborder=\"1\" allowfullscreen></iframe>"
   ]
  },
  {
   "cell_type": "markdown",
   "metadata": {},
   "source": [
    "## Rule Enhanced with Xalgo cells "
   ]
  },
  {
   "cell_type": "markdown",
   "metadata": {},
   "source": [
    "## Sample Transaction\n",
    "\n",
    "### Illustration of Invoice or Purchase Order\n",
    "\n"
   ]
  },
  {
   "cell_type": "markdown",
   "metadata": {},
   "source": [
    "### Input UBL (Computed) \n"
   ]
  },
  {
   "cell_type": "markdown",
   "metadata": {},
   "source": [
    "### Output UBL (Computed with Rule)"
   ]
  }
 ],
 "metadata": {
  "kernelspec": {
   "display_name": "Python 3.6",
   "language": "python",
   "name": "python36"
  },
  "language_info": {
   "codemirror_mode": {
    "name": "ipython",
    "version": 3
   },
   "file_extension": ".py",
   "mimetype": "text/x-python",
   "name": "python",
   "nbconvert_exporter": "python",
   "pygments_lexer": "ipython3",
   "version": "3.6.0"
  }
 },
 "nbformat": 4,
 "nbformat_minor": 2
}
